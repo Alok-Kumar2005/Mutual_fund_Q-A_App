{
 "cells": [
  {
   "cell_type": "code",
   "execution_count": 1,
   "metadata": {},
   "outputs": [
    {
     "data": {
      "text/plain": [
       "True"
      ]
     },
     "execution_count": 1,
     "metadata": {},
     "output_type": "execute_result"
    }
   ],
   "source": [
    "import os\n",
    "from dotenv import load_dotenv\n",
    "\n",
    "load_dotenv()"
   ]
  },
  {
   "cell_type": "code",
   "execution_count": 39,
   "metadata": {},
   "outputs": [],
   "source": [
    "import getpass\n",
    "import os\n",
    "\n",
    "if \"GOOGLE_API_KEY\" not in os.environ:\n",
    "    os.environ[\"GOOGLE_API_KEY\"] = getpass(\"your_api_key\")"
   ]
  },
  {
   "cell_type": "code",
   "execution_count": 40,
   "metadata": {},
   "outputs": [],
   "source": [
    "aws_access_key_id = \"you_access_key\"\n",
    "aws_secret_acess_key = \"your_secret_access_key\"\n",
    "region_name = \"ap-south-1\""
   ]
  },
  {
   "cell_type": "code",
   "execution_count": 5,
   "metadata": {},
   "outputs": [],
   "source": [
    "import boto3\n",
    "from langchain_google_genai import GoogleGenerativeAIEmbeddings\n",
    "from langchain.llms.bedrock import Bedrock\n",
    "from langchain.document_loaders import PyPDFDirectoryLoader\n",
    "from langchain.text_splitter import RecursiveCharacterTextSplitter\n",
    "from langchain.vectorstores import FAISS\n",
    "from langchain.prompts import PromptTemplate\n",
    "from langchain.chains import RetrievalQA"
   ]
  },
  {
   "cell_type": "code",
   "execution_count": 7,
   "metadata": {},
   "outputs": [],
   "source": [
    "bedrock = boto3.client(service_name = \"bedrock-runtime\" ,\n",
    "                       region_name = region_name,\n",
    "                       aws_access_key_id = aws_access_key_id,\n",
    "                       aws_secret_access_key = aws_secret_acess_key\n",
    "                       )"
   ]
  },
  {
   "cell_type": "code",
   "execution_count": 24,
   "metadata": {},
   "outputs": [],
   "source": [
    "prompt_template = \"\"\" \n",
    "Human: Use the following pieces of context to provides a concise answer to the question at the end but use atleast summerize with \n",
    "250 words with detailed explaninations. If you don't know the answer, just say that you don't know, dont't try to generte any answer just say\n",
    "i am not able to answer these question and give I dont't know\n",
    "\n",
    "<context>\n",
    "{context}\n",
    "</context\n",
    "\n",
    "Question: {question}\n",
    "Assistant\n",
    "\"\"\""
   ]
  },
  {
   "cell_type": "code",
   "execution_count": 25,
   "metadata": {},
   "outputs": [],
   "source": [
    "embeddings = GoogleGenerativeAIEmbeddings(model = \"models/embedding-001\")"
   ]
  },
  {
   "cell_type": "code",
   "execution_count": 26,
   "metadata": {},
   "outputs": [],
   "source": [
    "loader = PyPDFDirectoryLoader(\"../data\")\n",
    "documents = loader.load()"
   ]
  },
  {
   "cell_type": "code",
   "execution_count": 27,
   "metadata": {},
   "outputs": [],
   "source": [
    "text_splitter = RecursiveCharacterTextSplitter(\n",
    "    chunk_size = 1000,\n",
    "    chunk_overlap = 100\n",
    ")"
   ]
  },
  {
   "cell_type": "code",
   "execution_count": 28,
   "metadata": {},
   "outputs": [],
   "source": [
    "docs = text_splitter.split_documents(documents)"
   ]
  },
  {
   "cell_type": "code",
   "execution_count": 29,
   "metadata": {},
   "outputs": [
    {
     "data": {
      "text/plain": [
       "Document(metadata={'source': '..\\\\data\\\\2007.03639v3.pdf', 'page': 0, 'page_label': '1'}, page_content='1\\nHuman Trajectory Forecasting in Crowds:\\nA Deep Learning Perspective\\nParth Kothari, Sven Kreiss, and Alexandre Alahi\\nAbstract—Since the past few decades, human trajectory fore-\\ncasting has been a ﬁeld of active research owing to its nu-\\nmerous real-world applications: evacuation situation analysis,\\ndeployment of intelligent transport systems, trafﬁc operations, to\\nname a few. Early works handcrafted this representation based\\non domain knowledge. However, social interactions in crowded\\nenvironments are not only diverse but often subtle. Recently,\\ndeep learning methods have outperformed their handcrafted\\ncounterparts, as they learned about human-human interactions\\nin a more generic data-driven fashion. In this work, we present\\nan in-depth analysis of existing deep learning-based methods\\nfor modelling social interactions. We propose two knowledge-\\nbased data-driven methods to effectively capture these social\\ninteractions. To objectively compare the performance of these')"
      ]
     },
     "execution_count": 29,
     "metadata": {},
     "output_type": "execute_result"
    }
   ],
   "source": [
    "docs[0]"
   ]
  },
  {
   "cell_type": "code",
   "execution_count": 30,
   "metadata": {},
   "outputs": [],
   "source": [
    "vectorstore_faiss = FAISS.from_documents(\n",
    "    docs ,\n",
    "    embeddings\n",
    ")\n",
    "\n",
    "vectorstore_faiss.save_local(\"faiss_index\")"
   ]
  },
  {
   "cell_type": "code",
   "execution_count": 31,
   "metadata": {},
   "outputs": [],
   "source": [
    "llm = Bedrock(\n",
    "    model_id = \"meta.llama3-8b-instruct-v1:0\",\n",
    "    client = bedrock,\n",
    "    model_kwargs = {'max_gen_len':512}\n",
    ")"
   ]
  },
  {
   "cell_type": "code",
   "execution_count": 32,
   "metadata": {},
   "outputs": [],
   "source": [
    "prommpt = PromptTemplate(\n",
    "    template=prompt_template,\n",
    "    input_variables=['context' , 'question']\n",
    ")"
   ]
  },
  {
   "cell_type": "code",
   "execution_count": 36,
   "metadata": {},
   "outputs": [],
   "source": [
    "qa = RetrievalQA.from_chain_type(\n",
    "    llm = llm,\n",
    "    chain_type = \"stuff\",\n",
    "    retriever = vectorstore_faiss.as_retriever(\n",
    "        search_type = \"similarity\" ,\n",
    "        search_kwargs = {\"k\":1}\n",
    "    ),\n",
    "    return_source_documents = True,\n",
    "    chain_type_kwargs = {\"prompt\": prommpt}\n",
    ")"
   ]
  },
  {
   "cell_type": "code",
   "execution_count": 37,
   "metadata": {},
   "outputs": [
    {
     "data": {
      "text/plain": [
       "\"Based on the provided context, TrajNet++ is a human trajectory forecasting model that is interaction-centric. This means that it focuses on scenes where interactions take place, which is achieved through a defined trajectory categorization process. The model is designed to provide an extensive evaluation system that includes novel collision-based metrics to measure the physical feasibility of its predictions.\\n\\nIn simpler terms, TrajNet++ is a model that predicts the future trajectory of humans based on their interactions with each other and their environment. The model is unique in that it focuses on scenes where interactions occur, such as pedestrian collisions or social gatherings, and uses novel metrics to evaluate the physical feasibility of its predictions.\\n\\nThe model's design is based on an in-depth analysis of existing interaction module designs in the literature, and it proposes two domain-knowledge based interaction models. The TrajNet++ model is evaluated using a comprehensive evaluation system that includes collision-based metrics, which helps to assess the physical feasibility of its predictions.\\n\\nOverall, TrajNet++ is a novel and innovative model that addresses the lack of a definitive comparison between existing interaction models and provides a more comprehensive evaluation system for human trajectory forecasting. (250 words)\""
      ]
     },
     "execution_count": 37,
     "metadata": {},
     "output_type": "execute_result"
    }
   ],
   "source": [
    "query = \"what is trajnet++ forcasting model\"\n",
    "answer = qa({\"query\":query})\n",
    "answer['result']"
   ]
  },
  {
   "cell_type": "code",
   "execution_count": 38,
   "metadata": {},
   "outputs": [
    {
     "data": {
      "text/plain": [
       "'I am not able to answer these questions. The provided context is related to trajectory forecasting models, and it does not mention Elon Musk. Therefore, I am unable to provide an answer to the question about who Elon Musk is. If you have any other questions or context related to the topic of trajectory forecasting models, I would be happy to help.'"
      ]
     },
     "execution_count": 38,
     "metadata": {},
     "output_type": "execute_result"
    }
   ],
   "source": [
    "query = \"who is elon musk\"\n",
    "answer = qa({\"query\":query})\n",
    "answer['result']"
   ]
  },
  {
   "cell_type": "code",
   "execution_count": null,
   "metadata": {},
   "outputs": [],
   "source": []
  },
  {
   "cell_type": "code",
   "execution_count": null,
   "metadata": {},
   "outputs": [],
   "source": []
  },
  {
   "cell_type": "code",
   "execution_count": null,
   "metadata": {},
   "outputs": [],
   "source": []
  }
 ],
 "metadata": {
  "kernelspec": {
   "display_name": "Python 3",
   "language": "python",
   "name": "python3"
  },
  "language_info": {
   "codemirror_mode": {
    "name": "ipython",
    "version": 3
   },
   "file_extension": ".py",
   "mimetype": "text/x-python",
   "name": "python",
   "nbconvert_exporter": "python",
   "pygments_lexer": "ipython3",
   "version": "3.9.21"
  }
 },
 "nbformat": 4,
 "nbformat_minor": 2
}
